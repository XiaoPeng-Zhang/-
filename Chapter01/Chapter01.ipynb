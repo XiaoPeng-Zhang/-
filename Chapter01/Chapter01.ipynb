{
  "nbformat": 4,
  "nbformat_minor": 0,
  "metadata": {
    "colab": {
      "name": "Chapter01.ipynb",
      "provenance": [],
      "collapsed_sections": [],
      "include_colab_link": true
    },
    "kernelspec": {
      "name": "python3",
      "display_name": "Python 3"
    }
  },
  "cells": [
    {
      "cell_type": "markdown",
      "metadata": {
        "id": "view-in-github",
        "colab_type": "text"
      },
      "source": [
        "<a href=\"https://colab.research.google.com/github/XiaoPeng-Zhang/Feature-Engineering-Made-Easy-Note/blob/master/Chapter01/Chapter01.ipynb\" target=\"_parent\"><img src=\"https://colab.research.google.com/assets/colab-badge.svg\" alt=\"Open In Colab\"/></a>"
      ]
    },
    {
      "cell_type": "markdown",
      "metadata": {
        "id": "xAG0_HIVKTTU",
        "colab_type": "text"
      },
      "source": [
        "###准备数据：捕获数据、存储数据、清洗数据。\n",
        "###大部份时间都是在清洗数据和组织数据。\n",
        "###清洗数据：将数据转换为云系统和数据库可以轻松识别的形式。--->清洗后信息保持不变。\n",
        "###组织数据：将数据集的格式整体转换为更干净的格式。--->将数据转换为行列结构。\n",
        "###特征工程：将数据转换为能更好地表示潜在问题的特征，从而提高机器学习的性能。\n",
        "- 转换数据过程：这里不是特指原始数据或未过滤的数据。而是适用于任何阶段的数据。通常要处理的数据是表格的形式。将数据组织成行列\n",
        "- 特征：是对机器学习过程有意义的数据属性\n",
        "- 更好地表示潜在问题：处理数据时，不能一叶障目不见泰山。使用的数据一定要代表了某个领域的某个问题。\n",
        "- 提高机器学习性能：将最终的更干净的数据给最终的机器学习流水线使用，以提高机器学习的效果和指标。\n",
        "\n",
        "#数据和机器学习的基础知识\n",
        "##数据\n",
        "- 列：属性\n",
        "- 行：观察值\n",
        "- 数据可能多或少、宽或窄（从特征上讲）、完整或稀疏（可能有缺失值），但要将这些数据处理干净\n",
        "##机器学习\n",
        "- 监督学习（预测分析）：专门处理预测一个值的任务\n",
        "- 非监督学习：可以用聚类算法来构建新的特征\n",
        "\n",
        "##机器学习算法和特征工程的评估\n",
        "- 属性：一般是指表格的列\n",
        "- 特征：一般代指对机器学习算法有益的属性\n",
        "- 对于任何机器学习流水线而言，如果不能使用一套标准指标评估其性能，那么它就是没用的。因此，特征工程不可能没有评估过程\n",
        "###特征工程的评估步骤\n",
        "- 在应用任何特征工程之前，得到机器学习模型的基准性能-->如何获得？\n",
        "- 应用一种或多种特征工程\n",
        "- 对于每种特征工程，获取一个性能指标，并与基准性能进行对比 \n",
        "- 如果性能的增量（变化）大于某个阈值（一般由我们来定义），则认为这种特征工程是有益的，并在机器学习流水线上应用\n",
        "- 性能的改变一般是经百分比计算（如基准性能从40%提升到76%的准确率，那么改变是90%）\n",
        "\n",
        "### 评估算法\n",
        "#### 监督学习：\n",
        "- 回归:预测定量数据，主要使用均方误差作为测量指标\n",
        "- 分类：预测定性数据，主要使用准确率作为测量指标\n",
        "#### 无监督学习\n",
        "- 主要用轮廓系数作为测量批量\n",
        "#### 统计检验\n",
        "- 用相关系数、t检验、卡方检验、以及其他方法评估并量化原始数据和转换后的数据效果\n",
        " "
      ]
    },
    {
      "cell_type": "code",
      "metadata": {
        "id": "2a6UgdwcKf6J",
        "colab_type": "code",
        "colab": {}
      },
      "source": [
        "def repond_to(mes):\n",
        "  print(mes)"
      ],
      "execution_count": 0,
      "outputs": []
    },
    {
      "cell_type": "code",
      "metadata": {
        "id": "WjIaUarVMcmZ",
        "colab_type": "code",
        "colab": {
          "base_uri": "https://localhost:8080/",
          "height": 34
        },
        "outputId": "0dd1cff5-0bf5-4858-d2c1-4b056c3b7c35"
      },
      "source": [
        "repond_to(\"fffff\")"
      ],
      "execution_count": 2,
      "outputs": [
        {
          "output_type": "stream",
          "text": [
            "fffff\n"
          ],
          "name": "stdout"
        }
      ]
    },
    {
      "cell_type": "code",
      "metadata": {
        "id": "LT5GFzRViKNu",
        "colab_type": "code",
        "colab": {
          "base_uri": "https://localhost:8080/",
          "height": 233
        },
        "outputId": "ade88044-5595-42fd-c197-7169a9408a39"
      },
      "source": [
        "from sklearn.linear_model import LogisticRegression\n",
        "from sklearn.model_selection import cross_val_score\n",
        "x=some_data_in_tabular_format\n",
        "y=response_variable\n",
        "lr=LinearRegression()\n",
        "scores=cross_val_score(lr,x,y,cv=5,scoring='accuracy')\n",
        "scores"
      ],
      "execution_count": 3,
      "outputs": [
        {
          "output_type": "error",
          "ename": "NameError",
          "evalue": "ignored",
          "traceback": [
            "\u001b[0;31m---------------------------------------------------------------------------\u001b[0m",
            "\u001b[0;31mNameError\u001b[0m                                 Traceback (most recent call last)",
            "\u001b[0;32m<ipython-input-3-569143282cd1>\u001b[0m in \u001b[0;36m<module>\u001b[0;34m()\u001b[0m\n\u001b[1;32m      1\u001b[0m \u001b[0;32mfrom\u001b[0m \u001b[0msklearn\u001b[0m\u001b[0;34m.\u001b[0m\u001b[0mlinear_model\u001b[0m \u001b[0;32mimport\u001b[0m \u001b[0mLogisticRegression\u001b[0m\u001b[0;34m\u001b[0m\u001b[0;34m\u001b[0m\u001b[0m\n\u001b[1;32m      2\u001b[0m \u001b[0;32mfrom\u001b[0m \u001b[0msklearn\u001b[0m\u001b[0;34m.\u001b[0m\u001b[0mmodel_selection\u001b[0m \u001b[0;32mimport\u001b[0m \u001b[0mcross_val_score\u001b[0m\u001b[0;34m\u001b[0m\u001b[0;34m\u001b[0m\u001b[0m\n\u001b[0;32m----> 3\u001b[0;31m \u001b[0mx\u001b[0m\u001b[0;34m=\u001b[0m\u001b[0msome_data_in_tabular_format\u001b[0m\u001b[0;34m\u001b[0m\u001b[0;34m\u001b[0m\u001b[0m\n\u001b[0m\u001b[1;32m      4\u001b[0m \u001b[0my\u001b[0m\u001b[0;34m=\u001b[0m\u001b[0mresponse_variable\u001b[0m\u001b[0;34m\u001b[0m\u001b[0;34m\u001b[0m\u001b[0m\n\u001b[1;32m      5\u001b[0m \u001b[0mlr\u001b[0m\u001b[0;34m=\u001b[0m\u001b[0mLinearRegression\u001b[0m\u001b[0;34m(\u001b[0m\u001b[0;34m)\u001b[0m\u001b[0;34m\u001b[0m\u001b[0;34m\u001b[0m\u001b[0m\n",
            "\u001b[0;31mNameError\u001b[0m: name 'some_data_in_tabular_format' is not defined"
          ]
        }
      ]
    }
  ]
}