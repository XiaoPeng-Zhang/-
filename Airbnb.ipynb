{
  "nbformat": 4,
  "nbformat_minor": 0,
  "metadata": {
    "colab": {
      "name": "Airbnb.ipynb",
      "provenance": [],
      "collapsed_sections": [],
      "include_colab_link": true
    },
    "kernelspec": {
      "name": "python3",
      "display_name": "Python 3"
    }
  },
  "cells": [
    {
      "cell_type": "markdown",
      "metadata": {
        "id": "view-in-github",
        "colab_type": "text"
      },
      "source": [
        "<a href=\"https://colab.research.google.com/github/XiaoPeng-Zhang/Feature-Engineering-Made-Easy-Note/blob/master/Airbnb.ipynb\" target=\"_parent\"><img src=\"https://colab.research.google.com/assets/colab-badge.svg\" alt=\"Open In Colab\"/></a>"
      ]
    },
    {
      "cell_type": "code",
      "metadata": {
        "id": "9YNlRCaUvE2A",
        "colab_type": "code",
        "colab": {}
      },
      "source": [
        "import numpy as np\n",
        "import pandas as pd\n",
        "import matplotlib.pyplot as plt\n",
        "import sklearn as sk\n",
        "%matplotlib inline\n",
        "import datetime\n",
        "import os\n",
        "import seaborn as sns#数据可视化\n",
        "from datetime import date\n",
        "from sklearn.preprocessing import LabelEncoder\n",
        "from sklearn.preprocessing import StandardScaler\n",
        "from sklearn.preprocessing import LabelBinarizer\n",
        "import pickle #用于存储模型\n",
        "import seaborn as sns\n",
        "from sklearn.metrics import *\n",
        "from sklearn.model_selection import *"
      ],
      "execution_count": 0,
      "outputs": []
    },
    {
      "cell_type": "code",
      "metadata": {
        "id": "mRkbM6tgvd6b",
        "colab_type": "code",
        "colab": {}
      },
      "source": [
        "test=pd.read_csv('test_users.csv')\n",
        "train=pd.read_csv('train_users_2.csv')"
      ],
      "execution_count": 0,
      "outputs": []
    },
    {
      "cell_type": "code",
      "metadata": {
        "id": "CV-TDWTPwtIj",
        "colab_type": "code",
        "outputId": "f4fb7de9-5ae4-45b7-ccfa-ba86180bac00",
        "colab": {
          "base_uri": "https://localhost:8080/",
          "height": 255
        }
      },
      "source": [
        "'''\n",
        "分析：\n",
        "\n",
        "train文件比test文件多了特征-country_destination\n",
        "country_destination是需要预测的目标变量\n",
        "数据探索时着重分析train文件，test文件类似\n",
        "'''\n",
        "print(\"the columm of the test\\n\",test.columns)\n",
        "print(\"the columm of the train\\n\",train.columns)"
      ],
      "execution_count": 0,
      "outputs": [
        {
          "output_type": "stream",
          "text": [
            "the columm of the test\n",
            " Index(['id', 'date_account_created', 'timestamp_first_active',\n",
            "       'date_first_booking', 'gender', 'age', 'signup_method', 'signup_flow',\n",
            "       'language', 'affiliate_channel', 'affiliate_provider',\n",
            "       'first_affiliate_tracked', 'signup_app', 'first_device_type',\n",
            "       'first_browser'],\n",
            "      dtype='object')\n",
            "the columm of the train\n",
            " Index(['id', 'date_account_created', 'timestamp_first_active',\n",
            "       'date_first_booking', 'gender', 'age', 'signup_method', 'signup_flow',\n",
            "       'language', 'affiliate_channel', 'affiliate_provider',\n",
            "       'first_affiliate_tracked', 'signup_app', 'first_device_type',\n",
            "       'first_browser', 'country_destination'],\n",
            "      dtype='object')\n"
          ],
          "name": "stdout"
        }
      ]
    },
    {
      "cell_type": "code",
      "metadata": {
        "id": "H9wNCqkjxwAh",
        "colab_type": "code",
        "outputId": "e0df4f48-e43a-4646-c44c-2edff6dffe4a",
        "colab": {
          "base_uri": "https://localhost:8080/",
          "height": 391
        }
      },
      "source": [
        "'''\n",
        "分析：\n",
        "\n",
        "trian文件包含213451行数据，16个特征\n",
        "每个特征的数据类型和非空数值\n",
        "date_first_booking空值较多，在特征提取时可以考虑删除\n",
        "'''\n",
        "print(train.info())"
      ],
      "execution_count": 0,
      "outputs": [
        {
          "output_type": "stream",
          "text": [
            "<class 'pandas.core.frame.DataFrame'>\n",
            "RangeIndex: 213451 entries, 0 to 213450\n",
            "Data columns (total 16 columns):\n",
            "id                         213451 non-null object\n",
            "date_account_created       213451 non-null object\n",
            "timestamp_first_active     213451 non-null int64\n",
            "date_first_booking         88908 non-null object\n",
            "gender                     213451 non-null object\n",
            "age                        125461 non-null float64\n",
            "signup_method              213451 non-null object\n",
            "signup_flow                213451 non-null int64\n",
            "language                   213451 non-null object\n",
            "affiliate_channel          213451 non-null object\n",
            "affiliate_provider         213451 non-null object\n",
            "first_affiliate_tracked    207386 non-null object\n",
            "signup_app                 213451 non-null object\n",
            "first_device_type          213451 non-null object\n",
            "first_browser              213451 non-null object\n",
            "country_destination        213451 non-null object\n",
            "dtypes: float64(1), int64(2), object(13)\n",
            "memory usage: 26.1+ MB\n",
            "None\n"
          ],
          "name": "stdout"
        }
      ]
    },
    {
      "cell_type": "code",
      "metadata": {
        "id": "yTEsCyYvxkOY",
        "colab_type": "code",
        "outputId": "ce69d9ae-9323-4d3b-9acc-35603c991428",
        "colab": {
          "base_uri": "https://localhost:8080/",
          "height": 357
        }
      },
      "source": [
        "'''\n",
        "特征分析：\n",
        "1. date_account_created\n",
        "'''\n",
        "#统计\n",
        "print(train.date_account_created.value_counts().head())\n",
        "print(train.date_account_created.value_counts().tail())\n",
        "#获取date_account_created信息\n",
        "print(\"\\ndescribe\\n\")\n",
        "print(train.date_account_created.describe())"
      ],
      "execution_count": 0,
      "outputs": [
        {
          "output_type": "stream",
          "text": [
            "2014-05-13    674\n",
            "2014-06-24    670\n",
            "2014-06-25    636\n",
            "2014-05-20    632\n",
            "2014-05-14    622\n",
            "Name: date_account_created, dtype: int64\n",
            "2010-04-01    1\n",
            "2010-06-18    1\n",
            "2010-04-11    1\n",
            "2010-04-24    1\n",
            "2010-02-14    1\n",
            "Name: date_account_created, dtype: int64\n",
            "\n",
            "describe\n",
            "\n",
            "count         213451\n",
            "unique          1634\n",
            "top       2014-05-13\n",
            "freq             674\n",
            "Name: date_account_created, dtype: object\n"
          ],
          "name": "stdout"
        }
      ]
    },
    {
      "cell_type": "code",
      "metadata": {
        "id": "xVE_qDjr1-Pd",
        "colab_type": "code",
        "outputId": "cb99eac3-adea-4eda-d42d-53d7e7a716fd",
        "colab": {
          "base_uri": "https://localhost:8080/",
          "height": 312
        }
      },
      "source": [
        "#观察用户增长情况\n",
        "da_train=train.date_account_created.value_counts()\n",
        "da_test=test.date_account_created.value_counts()\n",
        "#将数据类型转换为DateTime类型\n",
        "da_train_date=pd.to_datetime(train.date_account_created.value_counts().index)\n",
        "da_test_date=pd.to_datetime(test.date_account_created.value_counts().index)\n",
        "#计算离首次注册日期相差天数\n",
        "da_train_day=da_train_date-da_train_date.min()\n",
        "da_test_day=da_test_date-da_train_date.min()\n",
        "#用matplotlib作图\n",
        "plt.scatter(da_train_day.days,da_train.values,color = 'r', label = 'train dataset')\n",
        "plt.scatter(da_test_day.days,da_test.values,color='b',label='test dataset')\n",
        "\n",
        "plt.title(\"Accounts created vs day\")\n",
        "plt.xlabel(\"Days\")\n",
        "plt.ylabel(\"Accounts created\")\n",
        "plt.legend(loc = 'upper left')\n",
        "'''\n",
        "分析：\n",
        "\n",
        "x轴：离首次注册时间相差的天数\n",
        "y轴：当天注册的用户数量\n",
        "随着时间的增长,用户注册的数量在急剧上升\n",
        "'''\n"
      ],
      "execution_count": 0,
      "outputs": [
        {
          "output_type": "execute_result",
          "data": {
            "text/plain": [
              "<matplotlib.legend.Legend at 0x7fc7587859b0>"
            ]
          },
          "metadata": {
            "tags": []
          },
          "execution_count": 35
        },
        {
          "output_type": "display_data",
          "data": {
            "image/png": "[encoded data removed]",
            "text/plain": [
              "<Figure size 432x288 with 1 Axes>"
            ]
          },
          "metadata": {
            "tags": []
          }
        }
      ]
    },
    {
      "cell_type": "code",
      "metadata": {
        "id": "lWrJ6Dkj44aM",
        "colab_type": "code",
        "outputId": "54ff3589-08cc-45d7-e8ae-b211b253de36",
        "colab": {
          "base_uri": "https://localhost:8080/",
          "height": 34
        }
      },
      "source": [
        "#2. timestamp_first_active\n",
        "print(train.timestamp_first_active.value_counts().unique())\n",
        "'''\n",
        "分析： 结果[1]表明timestamp_first_active没有重复数据\n",
        "'''"
      ],
      "execution_count": 0,
      "outputs": [
        {
          "output_type": "stream",
          "text": [
            "[1]\n"
          ],
          "name": "stdout"
        }
      ]
    },
    {
      "cell_type": "code",
      "metadata": {
        "id": "xjA439Wn7FYX",
        "colab_type": "code",
        "outputId": "e436c630-c1cf-496b-9c84-2e9752ea8097",
        "colab": {
          "base_uri": "https://localhost:8080/",
          "height": 136
        }
      },
      "source": [
        "tfa_train_dt = train.timestamp_first_active.astype(str).apply(lambda x:  \n",
        "                                                                    datetime.datetime(int(x[:4]),\n",
        "                                                                                      int(x[4:6]), \n",
        "                                                                                      int(x[6:8]), \n",
        "                                                                                      int(x[8:10]), \n",
        "                                                                                      int(x[10:12]),\n",
        "                                                                                      int(x[12:])))\n",
        "print(tfa_train_dt.describe())"
      ],
      "execution_count": 0,
      "outputs": [
        {
          "output_type": "stream",
          "text": [
            "count                  213451\n",
            "unique                 213451\n",
            "top       2013-07-01 05:26:34\n",
            "freq                        1\n",
            "first     2009-03-19 04:32:55\n",
            "last      2014-06-30 23:58:24\n",
            "Name: timestamp_first_active, dtype: object\n"
          ],
          "name": "stdout"
        }
      ]
    },
    {
      "cell_type": "code",
      "metadata": {
        "id": "nrjNfs2J78hQ",
        "colab_type": "code",
        "outputId": "6de2df58-4432-48f8-ee32-899360c1b227",
        "colab": {
          "base_uri": "https://localhost:8080/",
          "height": 255
        }
      },
      "source": [
        "#3. date_first_booking\n",
        "print(train.date_first_booking.describe())\n",
        "print(test.date_first_booking.describe())\n",
        "'''\n",
        "分析：\n",
        "\n",
        "train文件中date_first_booking有大量缺失值\n",
        "test文件中date_first_booking全是缺失值\n",
        "可以删除特征date_first_booking\n",
        "'''"
      ],
      "execution_count": 0,
      "outputs": [
        {
          "output_type": "stream",
          "text": [
            "count          88908\n",
            "unique          1976\n",
            "top       2014-05-22\n",
            "freq             248\n",
            "Name: date_first_booking, dtype: object\n",
            "count    0.0\n",
            "mean     NaN\n",
            "std      NaN\n",
            "min      NaN\n",
            "25%      NaN\n",
            "50%      NaN\n",
            "75%      NaN\n",
            "max      NaN\n",
            "Name: date_first_booking, dtype: float64\n"
          ],
          "name": "stdout"
        }
      ]
    },
    {
      "cell_type": "code",
      "metadata": {
        "id": "M17xyLik8Rul",
        "colab_type": "code",
        "outputId": "e7fd8d4d-d60c-466f-895c-fcef31334515",
        "colab": {
          "base_uri": "https://localhost:8080/",
          "height": 353
        }
      },
      "source": [
        "#4.age\n",
        "#柱状图分析\n",
        "##首先将年龄进行分成4组missing values, too small age, reasonable age, too large age\n",
        "train_age=[train[train.age.isnull()].age.shape[0]\n",
        "           ,train.query('age<15').age.shape[0]\n",
        "           ,train.query('age>=15&age<=90').age.shape[0]\n",
        "           ,train.query('age>90').age.shape[0]\n",
        "          ]\n",
        "\n",
        "test_age=[test[test.age.isnull()].age.shape[0]\n",
        "           ,test.query('age<15').age.shape[0]\n",
        "           ,test.query('age>=15&age<=90').age.shape[0]\n",
        "           ,test.query('age>90').age.shape[0]\n",
        "          ]\n",
        "\n",
        "columns = ['Null', 'age < 15', 'age', 'age > 90']\n",
        "\n",
        "# plot\n",
        "fig, (ax1,ax2) = plt.subplots(1,2,sharex=True, sharey = True,figsize=(10,5))\n",
        "\n",
        "sns.barplot(columns, train_age, ax = ax1)\n",
        "sns.barplot(columns, test_age, ax = ax2)\n",
        "\n",
        "ax1.set_title('training dataset')\n",
        "ax2.set_title('test dataset')\n",
        "ax1.set_ylabel('counts')\n",
        "#分析：异常年龄较少，且有一定数量的缺失值"
      ],
      "execution_count": 0,
      "outputs": [
        {
          "output_type": "execute_result",
          "data": {
            "text/plain": [
              "Text(0, 0.5, 'counts')"
            ]
          },
          "metadata": {
            "tags": []
          },
          "execution_count": 50
        },
        {
          "output_type": "display_data",
          "data": {
            "image/png": "[encoded data removed]",
            "text/plain": [
              "<Figure size 720x360 with 2 Axes>"
            ]
          },
          "metadata": {
            "tags": []
          }
        }
      ]
    },
    {
      "cell_type": "code",
      "metadata": {
        "id": "M0XhwR5MHHRt",
        "colab_type": "code",
        "colab": {}
      },
      "source": [
        "def feature_barplot(feature, df_train = train, df_test = test, figsize=(10,5), rot = 90, saveimg =False):\n",
        "  "
      ],
      "execution_count": 0,
      "outputs": []
    }
  ]
}