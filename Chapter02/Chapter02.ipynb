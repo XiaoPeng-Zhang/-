{
  "nbformat": 4,
  "nbformat_minor": 0,
  "metadata": {
    "colab": {
      "name": "Chapter02.ipynb",
      "provenance": [],
      "collapsed_sections": [],
      "toc_visible": true,
      "include_colab_link": true
    },
    "kernelspec": {
      "name": "python3",
      "display_name": "Python 3"
    }
  },
  "cells": [
    {
      "cell_type": "markdown",
      "metadata": {
        "id": "view-in-github",
        "colab_type": "text"
      },
      "source": [
        "<a href=\"https://colab.research.google.com/github/XiaoPeng-Zhang/Feature-Engineering-Made-Easy-Note/blob/master/Chapter02/Chapter02.ipynb\" target=\"_parent\"><img src=\"https://colab.research.google.com/assets/colab-badge.svg\" alt=\"Open In Colab\"/></a>"
      ]
    },
    {
      "cell_type": "markdown",
      "metadata": {
        "id": "R_W8W770yEX2",
        "colab_type": "text"
      },
      "source": [
        "#特征理解：我的数据集里有什么\n",
        "## 结构化数据与非结构化化数据\n",
        "- 结构化数据：可以分成观察值和特征的数据，一般以表格的形式组织\n",
        "- 非结构化数据：作为自由流动的实体，不遵循标准组织结构的数据。通常，非结构化数据在我们看来是一团数据，或只有一个特征\n",
        "## 定量数据与定性数据\n",
        "- 定量数据一般是数值，应该是衡量某样东西的数量\n",
        "- 定性数据本质上是类别，应该是描述某样东西的性质\n",
        "## 数据的4个等级\n",
        "- 定类等级：只按名称分类，例如血型、人名和动物物种等\n",
        "- 定序等级：可以自然排序。可以认为列中的某些数据比其他数据更好或更大\n",
        "- 定距等级：数据不仅可以像定序等级的数据一样排序，而且值之间的差异也有意义。也就意味着不仅可以排序和比较，而且可以加减。\n",
        "- 定比等级：处理的数据也是定量数据，不仅可以加减运算，还有乘除运算，而且还有绝对零点的概念。\n",
        "## 探索性数据分析和数据可视化\n",
        "## 描述性统计\n"
      ]
    },
    {
      "cell_type": "code",
      "metadata": {
        "id": "VcP-gkJNGm3V",
        "colab_type": "code",
        "colab": {}
      },
      "source": [
        "#定量数据和定性数据\n",
        "import pandas as pd #存储表格数据\n",
        "import numpy as np #数学计算包\n",
        "import matplotlib.pyplot as plt#流行的数据可视化包\n",
        "import seaborn as sns#另一个流行的数据可视化包\n",
        "#允许行内渲染图形\n",
        "%matplotlib inline\n",
        "plt.style.use('fivethirtyeight')#流行的数据可视化主题"
      ],
      "execution_count": 0,
      "outputs": []
    },
    {
      "cell_type": "code",
      "metadata": {
        "id": "lcAsXX1b2Hrc",
        "colab_type": "code",
        "outputId": "1665c0c7-6c53-4f82-b1e3-1934b98567ac",
        "colab": {
          "base_uri": "https://localhost:8080/",
          "height": 323
        }
      },
      "source": [
        "\n",
        "salary_ranges=pd.read_csv('/content/Salary_Ranges_by_Job_Classification.csv')\n",
        "salary_ranges.head()"
      ],
      "execution_count": 43,
      "outputs": [
        {
          "output_type": "execute_result",
          "data": {
            "text/html": [
              "<div>\n",
              "<style scoped>\n",
              "    .dataframe tbody tr th:only-of-type {\n",
              "        vertical-align: middle;\n",
              "    }\n",
              "\n",
              "    .dataframe tbody tr th {\n",
              "        vertical-align: top;\n",
              "    }\n",
              "\n",
              "    .dataframe thead th {\n",
              "        text-align: right;\n",
              "    }\n",
              "</style>\n",
              "<table border=\"1\" class=\"dataframe\">\n",
              "  <thead>\n",
              "    <tr style=\"text-align: right;\">\n",
              "      <th></th>\n",
              "      <th>SetID</th>\n",
              "      <th>Job Code</th>\n",
              "      <th>Eff Date</th>\n",
              "      <th>Sal End Date</th>\n",
              "      <th>Salary SetID</th>\n",
              "      <th>Sal Plan</th>\n",
              "      <th>Grade</th>\n",
              "      <th>Step</th>\n",
              "      <th>Biweekly High Rate</th>\n",
              "      <th>Biweekly Low Rate</th>\n",
              "      <th>Union Code</th>\n",
              "      <th>Extended Step</th>\n",
              "      <th>Pay Type</th>\n",
              "    </tr>\n",
              "  </thead>\n",
              "  <tbody>\n",
              "    <tr>\n",
              "      <th>0</th>\n",
              "      <td>COMMN</td>\n",
              "      <td>0109</td>\n",
              "      <td>07/01/2009 12:00:00 AM</td>\n",
              "      <td>06/30/2010 12:00:00 AM</td>\n",
              "      <td>COMMN</td>\n",
              "      <td>SFM</td>\n",
              "      <td>00000</td>\n",
              "      <td>1</td>\n",
              "      <td>$0.00</td>\n",
              "      <td>$0.00</td>\n",
              "      <td>330</td>\n",
              "      <td>0</td>\n",
              "      <td>C</td>\n",
              "    </tr>\n",
              "    <tr>\n",
              "      <th>1</th>\n",
              "      <td>COMMN</td>\n",
              "      <td>0110</td>\n",
              "      <td>07/01/2009 12:00:00 AM</td>\n",
              "      <td>06/30/2010 12:00:00 AM</td>\n",
              "      <td>COMMN</td>\n",
              "      <td>SFM</td>\n",
              "      <td>00000</td>\n",
              "      <td>1</td>\n",
              "      <td>$15.00</td>\n",
              "      <td>$15.00</td>\n",
              "      <td>323</td>\n",
              "      <td>0</td>\n",
              "      <td>D</td>\n",
              "    </tr>\n",
              "    <tr>\n",
              "      <th>2</th>\n",
              "      <td>COMMN</td>\n",
              "      <td>0111</td>\n",
              "      <td>07/01/2009 12:00:00 AM</td>\n",
              "      <td>06/30/2010 12:00:00 AM</td>\n",
              "      <td>COMMN</td>\n",
              "      <td>SFM</td>\n",
              "      <td>00000</td>\n",
              "      <td>1</td>\n",
              "      <td>$25.00</td>\n",
              "      <td>$25.00</td>\n",
              "      <td>323</td>\n",
              "      <td>0</td>\n",
              "      <td>D</td>\n",
              "    </tr>\n",
              "    <tr>\n",
              "      <th>3</th>\n",
              "      <td>COMMN</td>\n",
              "      <td>0112</td>\n",
              "      <td>07/01/2009 12:00:00 AM</td>\n",
              "      <td>06/30/2010 12:00:00 AM</td>\n",
              "      <td>COMMN</td>\n",
              "      <td>SFM</td>\n",
              "      <td>00000</td>\n",
              "      <td>1</td>\n",
              "      <td>$50.00</td>\n",
              "      <td>$50.00</td>\n",
              "      <td>323</td>\n",
              "      <td>0</td>\n",
              "      <td>D</td>\n",
              "    </tr>\n",
              "    <tr>\n",
              "      <th>4</th>\n",
              "      <td>COMMN</td>\n",
              "      <td>0114</td>\n",
              "      <td>07/01/2009 12:00:00 AM</td>\n",
              "      <td>06/30/2010 12:00:00 AM</td>\n",
              "      <td>COMMN</td>\n",
              "      <td>SFM</td>\n",
              "      <td>00000</td>\n",
              "      <td>1</td>\n",
              "      <td>$100.00</td>\n",
              "      <td>$100.00</td>\n",
              "      <td>323</td>\n",
              "      <td>0</td>\n",
              "      <td>M</td>\n",
              "    </tr>\n",
              "  </tbody>\n",
              "</table>\n",
              "</div>"
            ],
            "text/plain": [
              "   SetID Job Code                Eff Date  ... Union Code Extended Step Pay Type\n",
              "0  COMMN     0109  07/01/2009 12:00:00 AM  ...        330             0        C\n",
              "1  COMMN     0110  07/01/2009 12:00:00 AM  ...        323             0        D\n",
              "2  COMMN     0111  07/01/2009 12:00:00 AM  ...        323             0        D\n",
              "3  COMMN     0112  07/01/2009 12:00:00 AM  ...        323             0        D\n",
              "4  COMMN     0114  07/01/2009 12:00:00 AM  ...        323             0        M\n",
              "\n",
              "[5 rows x 13 columns]"
            ]
          },
          "metadata": {
            "tags": []
          },
          "execution_count": 43
        }
      ]
    },
    {
      "cell_type": "code",
      "metadata": {
        "id": "V3POzVLZ3fe8",
        "colab_type": "code",
        "outputId": "4cd48966-275b-4d84-d9b0-eb5827fae06e",
        "colab": {
          "base_uri": "https://localhost:8080/",
          "height": 578
        }
      },
      "source": [
        "salary_ranges.info()#查看数据有多少行，是否有缺失值，以及各列的数据类型\n",
        "print('--------------------------------------------------------------------')\n",
        "salary_ranges.isnull().sum()#另一种计算缺失值数量的方法"
      ],
      "execution_count": 0,
      "outputs": [
        {
          "output_type": "stream",
          "text": [
            "<class 'pandas.core.frame.DataFrame'>\n",
            "RangeIndex: 1356 entries, 0 to 1355\n",
            "Data columns (total 13 columns):\n",
            "SetID                 1356 non-null object\n",
            "Job Code              1356 non-null object\n",
            "Eff Date              1356 non-null object\n",
            "Sal End Date          1356 non-null object\n",
            "Salary SetID          1356 non-null object\n",
            "Sal Plan              1356 non-null object\n",
            "Grade                 1356 non-null object\n",
            "Step                  1356 non-null int64\n",
            "Biweekly High Rate    1356 non-null object\n",
            "Biweekly Low Rate     1356 non-null object\n",
            "Union Code            1356 non-null int64\n",
            "Extended Step         1356 non-null int64\n",
            "Pay Type              1356 non-null object\n",
            "dtypes: int64(3), object(10)\n",
            "memory usage: 137.8+ KB\n",
            "--------------------------------------------------------------------\n"
          ],
          "name": "stdout"
        },
        {
          "output_type": "execute_result",
          "data": {
            "text/plain": [
              "SetID                 0\n",
              "Job Code              0\n",
              "Eff Date              0\n",
              "Sal End Date          0\n",
              "Salary SetID          0\n",
              "Sal Plan              0\n",
              "Grade                 0\n",
              "Step                  0\n",
              "Biweekly High Rate    0\n",
              "Biweekly Low Rate     0\n",
              "Union Code            0\n",
              "Extended Step         0\n",
              "Pay Type              0\n",
              "dtype: int64"
            ]
          },
          "metadata": {
            "tags": []
          },
          "execution_count": 14
        }
      ]
    },
    {
      "cell_type": "code",
      "metadata": {
        "id": "o_9knG5d5X7s",
        "colab_type": "code",
        "outputId": "2b9316dd-64ff-47aa-fcfd-b11693cd68f2",
        "colab": {
          "base_uri": "https://localhost:8080/",
          "height": 297
        }
      },
      "source": [
        "#print('--------------------------------------------------------------------')\n",
        "salary_ranges.describe()#显示描述性统计\n"
      ],
      "execution_count": 0,
      "outputs": [
        {
          "output_type": "execute_result",
          "data": {
            "text/html": [
              "<div>\n",
              "<style scoped>\n",
              "    .dataframe tbody tr th:only-of-type {\n",
              "        vertical-align: middle;\n",
              "    }\n",
              "\n",
              "    .dataframe tbody tr th {\n",
              "        vertical-align: top;\n",
              "    }\n",
              "\n",
              "    .dataframe thead th {\n",
              "        text-align: right;\n",
              "    }\n",
              "</style>\n",
              "<table border=\"1\" class=\"dataframe\">\n",
              "  <thead>\n",
              "    <tr style=\"text-align: right;\">\n",
              "      <th></th>\n",
              "      <th>Step</th>\n",
              "      <th>Union Code</th>\n",
              "      <th>Extended Step</th>\n",
              "    </tr>\n",
              "  </thead>\n",
              "  <tbody>\n",
              "    <tr>\n",
              "      <th>count</th>\n",
              "      <td>1356.000000</td>\n",
              "      <td>1356.000000</td>\n",
              "      <td>1356.000000</td>\n",
              "    </tr>\n",
              "    <tr>\n",
              "      <th>mean</th>\n",
              "      <td>1.294985</td>\n",
              "      <td>392.676991</td>\n",
              "      <td>0.150442</td>\n",
              "    </tr>\n",
              "    <tr>\n",
              "      <th>std</th>\n",
              "      <td>1.045816</td>\n",
              "      <td>338.100562</td>\n",
              "      <td>1.006734</td>\n",
              "    </tr>\n",
              "    <tr>\n",
              "      <th>min</th>\n",
              "      <td>1.000000</td>\n",
              "      <td>1.000000</td>\n",
              "      <td>0.000000</td>\n",
              "    </tr>\n",
              "    <tr>\n",
              "      <th>25%</th>\n",
              "      <td>1.000000</td>\n",
              "      <td>21.000000</td>\n",
              "      <td>0.000000</td>\n",
              "    </tr>\n",
              "    <tr>\n",
              "      <th>50%</th>\n",
              "      <td>1.000000</td>\n",
              "      <td>351.000000</td>\n",
              "      <td>0.000000</td>\n",
              "    </tr>\n",
              "    <tr>\n",
              "      <th>75%</th>\n",
              "      <td>1.000000</td>\n",
              "      <td>790.000000</td>\n",
              "      <td>0.000000</td>\n",
              "    </tr>\n",
              "    <tr>\n",
              "      <th>max</th>\n",
              "      <td>5.000000</td>\n",
              "      <td>990.000000</td>\n",
              "      <td>11.000000</td>\n",
              "    </tr>\n",
              "  </tbody>\n",
              "</table>\n",
              "</div>"
            ],
            "text/plain": [
              "              Step   Union Code  Extended Step\n",
              "count  1356.000000  1356.000000    1356.000000\n",
              "mean      1.294985   392.676991       0.150442\n",
              "std       1.045816   338.100562       1.006734\n",
              "min       1.000000     1.000000       0.000000\n",
              "25%       1.000000    21.000000       0.000000\n",
              "50%       1.000000   351.000000       0.000000\n",
              "75%       1.000000   790.000000       0.000000\n",
              "max       5.000000   990.000000      11.000000"
            ]
          },
          "metadata": {
            "tags": []
          },
          "execution_count": 17
        }
      ]
    },
    {
      "cell_type": "code",
      "metadata": {
        "id": "2oFjjBaR5tak",
        "colab_type": "code",
        "outputId": "f14a2bc7-95ad-4387-b1a3-354be73ec602",
        "colab": {
          "base_uri": "https://localhost:8080/",
          "height": 510
        }
      },
      "source": [
        "salary_ranges_clo=salary_ranges[['Biweekly High Rate','Grade']]\n",
        "salary_ranges_clo.head()\n",
        "#移除工资前的美元符号，处理定量数据时，最好是用浮点型，定性数据则一般使用字符串或Unicode对象\n",
        "salary_ranges_clo['Biweekly High Rate'].describe()\n",
        "salary_ranges_clo['Biweekly High Rate']=salary_ranges_clo['Biweekly High Rate'].map(lambda value:value.replace('$',''))\n",
        "salary_ranges_clo['Biweekly High Rate']=salary_ranges_clo['Biweekly High Rate'].astype(float)\n",
        "\n",
        "salary_ranges_clo['Grade']=salary_ranges_clo['Grade'].astype(str)\n",
        "#salary_ranges_clo.info()\n",
        "salary_ranges_clo.head()"
      ],
      "execution_count": 0,
      "outputs": [
        {
          "output_type": "stream",
          "text": [
            "/usr/local/lib/python3.6/dist-packages/ipykernel_launcher.py:5: SettingWithCopyWarning: \n",
            "A value is trying to be set on a copy of a slice from a DataFrame.\n",
            "Try using .loc[row_indexer,col_indexer] = value instead\n",
            "\n",
            "See the caveats in the documentation: http://pandas.pydata.org/pandas-docs/stable/indexing.html#indexing-view-versus-copy\n",
            "  \"\"\"\n",
            "/usr/local/lib/python3.6/dist-packages/ipykernel_launcher.py:6: SettingWithCopyWarning: \n",
            "A value is trying to be set on a copy of a slice from a DataFrame.\n",
            "Try using .loc[row_indexer,col_indexer] = value instead\n",
            "\n",
            "See the caveats in the documentation: http://pandas.pydata.org/pandas-docs/stable/indexing.html#indexing-view-versus-copy\n",
            "  \n",
            "/usr/local/lib/python3.6/dist-packages/ipykernel_launcher.py:8: SettingWithCopyWarning: \n",
            "A value is trying to be set on a copy of a slice from a DataFrame.\n",
            "Try using .loc[row_indexer,col_indexer] = value instead\n",
            "\n",
            "See the caveats in the documentation: http://pandas.pydata.org/pandas-docs/stable/indexing.html#indexing-view-versus-copy\n",
            "  \n"
          ],
          "name": "stderr"
        },
        {
          "output_type": "execute_result",
          "data": {
            "text/html": [
              "<div>\n",
              "<style scoped>\n",
              "    .dataframe tbody tr th:only-of-type {\n",
              "        vertical-align: middle;\n",
              "    }\n",
              "\n",
              "    .dataframe tbody tr th {\n",
              "        vertical-align: top;\n",
              "    }\n",
              "\n",
              "    .dataframe thead th {\n",
              "        text-align: right;\n",
              "    }\n",
              "</style>\n",
              "<table border=\"1\" class=\"dataframe\">\n",
              "  <thead>\n",
              "    <tr style=\"text-align: right;\">\n",
              "      <th></th>\n",
              "      <th>Biweekly High Rate</th>\n",
              "      <th>Grade</th>\n",
              "    </tr>\n",
              "  </thead>\n",
              "  <tbody>\n",
              "    <tr>\n",
              "      <th>0</th>\n",
              "      <td>0.0</td>\n",
              "      <td>00000</td>\n",
              "    </tr>\n",
              "    <tr>\n",
              "      <th>1</th>\n",
              "      <td>15.0</td>\n",
              "      <td>00000</td>\n",
              "    </tr>\n",
              "    <tr>\n",
              "      <th>2</th>\n",
              "      <td>25.0</td>\n",
              "      <td>00000</td>\n",
              "    </tr>\n",
              "    <tr>\n",
              "      <th>3</th>\n",
              "      <td>50.0</td>\n",
              "      <td>00000</td>\n",
              "    </tr>\n",
              "    <tr>\n",
              "      <th>4</th>\n",
              "      <td>100.0</td>\n",
              "      <td>00000</td>\n",
              "    </tr>\n",
              "  </tbody>\n",
              "</table>\n",
              "</div>"
            ],
            "text/plain": [
              "   Biweekly High Rate  Grade\n",
              "0                 0.0  00000\n",
              "1                15.0  00000\n",
              "2                25.0  00000\n",
              "3                50.0  00000\n",
              "4               100.0  00000"
            ]
          },
          "metadata": {
            "tags": []
          },
          "execution_count": 23
        }
      ]
    },
    {
      "cell_type": "code",
      "metadata": {
        "id": "4fhMz5z1AJ5T",
        "colab_type": "code",
        "outputId": "0d665047-1ffd-4330-cfbe-62a2b6bab1c1",
        "colab": {
          "base_uri": "https://localhost:8080/",
          "height": 329
        }
      },
      "source": [
        "#定类等级：不能执行任何定量的数学操作，因为没有意义\n",
        "salary_ranges['Grade'].value_counts().head()#用来计数\n",
        "salary_ranges['Grade'].value_counts().sort_values(ascending=False).head(20).plot(kind='bar')\n"
      ],
      "execution_count": 0,
      "outputs": [
        {
          "output_type": "execute_result",
          "data": {
            "text/plain": [
              "<matplotlib.axes._subplots.AxesSubplot at 0x7fc113d9a828>"
            ]
          },
          "metadata": {
            "tags": []
          },
          "execution_count": 30
        },
        {
          "output_type": "display_data",
          "data": {
            "image/png": "[encoded data removed]",
            "text/plain": [
              "<Figure size 432x288 with 1 Axes>"
            ]
          },
          "metadata": {
            "tags": []
          }
        }
      ]
    },
    {
      "cell_type": "code",
      "metadata": {
        "id": "0tntzOzwBZUN",
        "colab_type": "code",
        "outputId": "38b207a3-68b8-48d1-b4f4-f6f5b8ba371d",
        "colab": {
          "base_uri": "https://localhost:8080/",
          "height": 281
        }
      },
      "source": [
        "salary_ranges['Grade'].value_counts().sort_values(ascending=False).head(5).plot(kind='pie')"
      ],
      "execution_count": 0,
      "outputs": [
        {
          "output_type": "execute_result",
          "data": {
            "text/plain": [
              "<matplotlib.axes._subplots.AxesSubplot at 0x7fc116866470>"
            ]
          },
          "metadata": {
            "tags": []
          },
          "execution_count": 29
        },
        {
          "output_type": "display_data",
          "data": {
            "image/png": "[encoded data removed]",
            "text/plain": [
              "<Figure size 432x288 with 1 Axes>"
            ]
          },
          "metadata": {
            "tags": []
          }
        }
      ]
    },
    {
      "cell_type": "code",
      "metadata": {
        "id": "uzH5XZnRGozi",
        "colab_type": "code",
        "outputId": "0147a6be-c3f7-4899-ac62-82abb5198343",
        "colab": {
          "base_uri": "https://localhost:8080/",
          "height": 304
        }
      },
      "source": [
        "#定序等级 \n",
        "customer=pd.read_csv('/content/2013_SFO_Customer_survey.csv')\n",
        "customer.head()\n",
        "#customer.shape"
      ],
      "execution_count": 0,
      "outputs": [
        {
          "output_type": "execute_result",
          "data": {
            "text/html": [
              "<div>\n",
              "<style scoped>\n",
              "    .dataframe tbody tr th:only-of-type {\n",
              "        vertical-align: middle;\n",
              "    }\n",
              "\n",
              "    .dataframe tbody tr th {\n",
              "        vertical-align: top;\n",
              "    }\n",
              "\n",
              "    .dataframe thead th {\n",
              "        text-align: right;\n",
              "    }\n",
              "</style>\n",
              "<table border=\"1\" class=\"dataframe\">\n",
              "  <thead>\n",
              "    <tr style=\"text-align: right;\">\n",
              "      <th></th>\n",
              "      <th>RESPNUM</th>\n",
              "      <th>CCGID</th>\n",
              "      <th>RUN</th>\n",
              "      <th>INTDATE</th>\n",
              "      <th>GATE</th>\n",
              "      <th>STRATA</th>\n",
              "      <th>PEAK</th>\n",
              "      <th>METHOD</th>\n",
              "      <th>AIRLINE</th>\n",
              "      <th>FLIGHT</th>\n",
              "      <th>DEST</th>\n",
              "      <th>DESTGEO</th>\n",
              "      <th>DESTMARK</th>\n",
              "      <th>ARRTIME</th>\n",
              "      <th>DEPTIME</th>\n",
              "      <th>Q2PURP1</th>\n",
              "      <th>Q2PURP2</th>\n",
              "      <th>Q2PURP3</th>\n",
              "      <th>Q2PURP4</th>\n",
              "      <th>Q2PURP5</th>\n",
              "      <th>Q2PURP6</th>\n",
              "      <th>Q3GETTO1</th>\n",
              "      <th>Q3GETTO2</th>\n",
              "      <th>Q3GETTO3</th>\n",
              "      <th>Q3GETTO4</th>\n",
              "      <th>Q3GETTO5</th>\n",
              "      <th>Q3GETTO6</th>\n",
              "      <th>Q3PARK</th>\n",
              "      <th>Q4BAGS</th>\n",
              "      <th>Q4BUY</th>\n",
              "      <th>Q4FOOD</th>\n",
              "      <th>Q4WIFI</th>\n",
              "      <th>Q5FLYPERYR</th>\n",
              "      <th>Q6TENURE</th>\n",
              "      <th>SAQ</th>\n",
              "      <th>Q7A_ART</th>\n",
              "      <th>Q7B_FOOD</th>\n",
              "      <th>Q7C_SHOPS</th>\n",
              "      <th>Q7D_SIGNS</th>\n",
              "      <th>Q7E_WALK</th>\n",
              "      <th>...</th>\n",
              "      <th>Q9C_CLNRENT</th>\n",
              "      <th>Q9D_CLNFOOD</th>\n",
              "      <th>Q9E_CLNBATH</th>\n",
              "      <th>Q9F_CLNWHOLE</th>\n",
              "      <th>Q9COM1</th>\n",
              "      <th>Q9COM2</th>\n",
              "      <th>Q9COM3</th>\n",
              "      <th>Q10SAFE</th>\n",
              "      <th>Q10COM1</th>\n",
              "      <th>Q10COM2</th>\n",
              "      <th>Q10COM3</th>\n",
              "      <th>Q11A_USEWEB</th>\n",
              "      <th>Q11B_USESFOAPP</th>\n",
              "      <th>Q11C_USEOTHAPP</th>\n",
              "      <th>Q11D_USESOCMED</th>\n",
              "      <th>Q11E_USEWIFI</th>\n",
              "      <th>Q12COM1</th>\n",
              "      <th>Q12COM2</th>\n",
              "      <th>Q12COM3</th>\n",
              "      <th>Q13_WHEREDEPART</th>\n",
              "      <th>Q13_RATEGETTO</th>\n",
              "      <th>Q14A_FIND</th>\n",
              "      <th>Q14B_SECURITY</th>\n",
              "      <th>Q15_PROBLEMS</th>\n",
              "      <th>Q15COM1</th>\n",
              "      <th>Q15COM2</th>\n",
              "      <th>Q15COM3</th>\n",
              "      <th>Q16_REGION</th>\n",
              "      <th>Q17_CITY</th>\n",
              "      <th>Q17_ZIP</th>\n",
              "      <th>Q17_COUNTRY</th>\n",
              "      <th>HOME</th>\n",
              "      <th>Q18_AGE</th>\n",
              "      <th>Q19_SEX</th>\n",
              "      <th>Q20_INCOME</th>\n",
              "      <th>Q21_HIFLYER</th>\n",
              "      <th>Q22A_USESJC</th>\n",
              "      <th>Q22B_USEOAK</th>\n",
              "      <th>LANG</th>\n",
              "      <th>WEIGHT</th>\n",
              "    </tr>\n",
              "  </thead>\n",
              "  <tbody>\n",
              "    <tr>\n",
              "      <th>0</th>\n",
              "      <td>1</td>\n",
              "      <td>1</td>\n",
              "      <td>1215</td>\n",
              "      <td>2</td>\n",
              "      <td>12</td>\n",
              "      <td>1</td>\n",
              "      <td>1</td>\n",
              "      <td>1</td>\n",
              "      <td>21</td>\n",
              "      <td>1437</td>\n",
              "      <td>49</td>\n",
              "      <td>1</td>\n",
              "      <td>1</td>\n",
              "      <td>8:34 AM</td>\n",
              "      <td>9:25 AM</td>\n",
              "      <td>1</td>\n",
              "      <td>8.0</td>\n",
              "      <td>NaN</td>\n",
              "      <td>NaN</td>\n",
              "      <td>NaN</td>\n",
              "      <td>NaN</td>\n",
              "      <td>2</td>\n",
              "      <td>10.0</td>\n",
              "      <td>NaN</td>\n",
              "      <td>NaN</td>\n",
              "      <td>NaN</td>\n",
              "      <td>NaN</td>\n",
              "      <td>NaN</td>\n",
              "      <td>2</td>\n",
              "      <td>1</td>\n",
              "      <td>2</td>\n",
              "      <td>2</td>\n",
              "      <td>6</td>\n",
              "      <td>2.0</td>\n",
              "      <td>1</td>\n",
              "      <td>3</td>\n",
              "      <td>4</td>\n",
              "      <td>3</td>\n",
              "      <td>3</td>\n",
              "      <td>3</td>\n",
              "      <td>...</td>\n",
              "      <td>3</td>\n",
              "      <td>3</td>\n",
              "      <td>4</td>\n",
              "      <td>4</td>\n",
              "      <td>NaN</td>\n",
              "      <td>NaN</td>\n",
              "      <td>NaN</td>\n",
              "      <td>5</td>\n",
              "      <td>1.0</td>\n",
              "      <td>NaN</td>\n",
              "      <td>NaN</td>\n",
              "      <td>2</td>\n",
              "      <td>2</td>\n",
              "      <td>2</td>\n",
              "      <td>2</td>\n",
              "      <td>2</td>\n",
              "      <td>NaN</td>\n",
              "      <td>NaN</td>\n",
              "      <td>NaN</td>\n",
              "      <td>5</td>\n",
              "      <td>3</td>\n",
              "      <td>3</td>\n",
              "      <td>3</td>\n",
              "      <td>2</td>\n",
              "      <td>NaN</td>\n",
              "      <td>NaN</td>\n",
              "      <td>NaN</td>\n",
              "      <td>1</td>\n",
              "      <td>SAN FRANCISCO</td>\n",
              "      <td>94131.0</td>\n",
              "      <td>US</td>\n",
              "      <td>1</td>\n",
              "      <td>2</td>\n",
              "      <td>1</td>\n",
              "      <td>1</td>\n",
              "      <td>2</td>\n",
              "      <td>2</td>\n",
              "      <td>1</td>\n",
              "      <td>1</td>\n",
              "      <td>0.553675</td>\n",
              "    </tr>\n",
              "    <tr>\n",
              "      <th>1</th>\n",
              "      <td>2</td>\n",
              "      <td>2</td>\n",
              "      <td>1215</td>\n",
              "      <td>2</td>\n",
              "      <td>12</td>\n",
              "      <td>1</td>\n",
              "      <td>1</td>\n",
              "      <td>1</td>\n",
              "      <td>21</td>\n",
              "      <td>1437</td>\n",
              "      <td>49</td>\n",
              "      <td>1</td>\n",
              "      <td>1</td>\n",
              "      <td>8:00 AM</td>\n",
              "      <td>9:25 AM</td>\n",
              "      <td>1</td>\n",
              "      <td>8.0</td>\n",
              "      <td>NaN</td>\n",
              "      <td>NaN</td>\n",
              "      <td>NaN</td>\n",
              "      <td>NaN</td>\n",
              "      <td>2</td>\n",
              "      <td>10.0</td>\n",
              "      <td>NaN</td>\n",
              "      <td>NaN</td>\n",
              "      <td>NaN</td>\n",
              "      <td>NaN</td>\n",
              "      <td>NaN</td>\n",
              "      <td>2</td>\n",
              "      <td>2</td>\n",
              "      <td>2</td>\n",
              "      <td>2</td>\n",
              "      <td>6</td>\n",
              "      <td>4.0</td>\n",
              "      <td>1</td>\n",
              "      <td>4</td>\n",
              "      <td>4</td>\n",
              "      <td>4</td>\n",
              "      <td>4</td>\n",
              "      <td>4</td>\n",
              "      <td>...</td>\n",
              "      <td>6</td>\n",
              "      <td>4</td>\n",
              "      <td>4</td>\n",
              "      <td>4</td>\n",
              "      <td>NaN</td>\n",
              "      <td>NaN</td>\n",
              "      <td>NaN</td>\n",
              "      <td>5</td>\n",
              "      <td>1.0</td>\n",
              "      <td>NaN</td>\n",
              "      <td>NaN</td>\n",
              "      <td>2</td>\n",
              "      <td>2</td>\n",
              "      <td>2</td>\n",
              "      <td>2</td>\n",
              "      <td>3</td>\n",
              "      <td>NaN</td>\n",
              "      <td>NaN</td>\n",
              "      <td>NaN</td>\n",
              "      <td>2</td>\n",
              "      <td>3</td>\n",
              "      <td>5</td>\n",
              "      <td>5</td>\n",
              "      <td>2</td>\n",
              "      <td>NaN</td>\n",
              "      <td>NaN</td>\n",
              "      <td>NaN</td>\n",
              "      <td>1</td>\n",
              "      <td>CONCORD</td>\n",
              "      <td>94521.0</td>\n",
              "      <td>US</td>\n",
              "      <td>5</td>\n",
              "      <td>6</td>\n",
              "      <td>1</td>\n",
              "      <td>0</td>\n",
              "      <td>3</td>\n",
              "      <td>2</td>\n",
              "      <td>1</td>\n",
              "      <td>1</td>\n",
              "      <td>0.553675</td>\n",
              "    </tr>\n",
              "    <tr>\n",
              "      <th>2</th>\n",
              "      <td>3</td>\n",
              "      <td>3</td>\n",
              "      <td>1215</td>\n",
              "      <td>2</td>\n",
              "      <td>12</td>\n",
              "      <td>1</td>\n",
              "      <td>1</td>\n",
              "      <td>1</td>\n",
              "      <td>21</td>\n",
              "      <td>1437</td>\n",
              "      <td>49</td>\n",
              "      <td>1</td>\n",
              "      <td>1</td>\n",
              "      <td>7:00 AM</td>\n",
              "      <td>9:25 AM</td>\n",
              "      <td>1</td>\n",
              "      <td>8.0</td>\n",
              "      <td>NaN</td>\n",
              "      <td>NaN</td>\n",
              "      <td>NaN</td>\n",
              "      <td>NaN</td>\n",
              "      <td>2</td>\n",
              "      <td>10.0</td>\n",
              "      <td>NaN</td>\n",
              "      <td>NaN</td>\n",
              "      <td>NaN</td>\n",
              "      <td>NaN</td>\n",
              "      <td>NaN</td>\n",
              "      <td>2</td>\n",
              "      <td>2</td>\n",
              "      <td>2</td>\n",
              "      <td>2</td>\n",
              "      <td>4</td>\n",
              "      <td>4.0</td>\n",
              "      <td>1</td>\n",
              "      <td>3</td>\n",
              "      <td>4</td>\n",
              "      <td>4</td>\n",
              "      <td>2</td>\n",
              "      <td>4</td>\n",
              "      <td>...</td>\n",
              "      <td>3</td>\n",
              "      <td>3</td>\n",
              "      <td>3</td>\n",
              "      <td>3</td>\n",
              "      <td>NaN</td>\n",
              "      <td>NaN</td>\n",
              "      <td>NaN</td>\n",
              "      <td>3</td>\n",
              "      <td>1.0</td>\n",
              "      <td>NaN</td>\n",
              "      <td>NaN</td>\n",
              "      <td>2</td>\n",
              "      <td>2</td>\n",
              "      <td>2</td>\n",
              "      <td>2</td>\n",
              "      <td>2</td>\n",
              "      <td>NaN</td>\n",
              "      <td>NaN</td>\n",
              "      <td>NaN</td>\n",
              "      <td>5</td>\n",
              "      <td>3</td>\n",
              "      <td>3</td>\n",
              "      <td>3</td>\n",
              "      <td>2</td>\n",
              "      <td>NaN</td>\n",
              "      <td>NaN</td>\n",
              "      <td>NaN</td>\n",
              "      <td>1</td>\n",
              "      <td>SAN FRANCISCO</td>\n",
              "      <td>94134.0</td>\n",
              "      <td>US</td>\n",
              "      <td>1</td>\n",
              "      <td>4</td>\n",
              "      <td>2</td>\n",
              "      <td>2</td>\n",
              "      <td>3</td>\n",
              "      <td>2</td>\n",
              "      <td>2</td>\n",
              "      <td>1</td>\n",
              "      <td>0.553675</td>\n",
              "    </tr>\n",
              "    <tr>\n",
              "      <th>3</th>\n",
              "      <td>4</td>\n",
              "      <td>4</td>\n",
              "      <td>1215</td>\n",
              "      <td>2</td>\n",
              "      <td>12</td>\n",
              "      <td>1</td>\n",
              "      <td>1</td>\n",
              "      <td>1</td>\n",
              "      <td>21</td>\n",
              "      <td>1437</td>\n",
              "      <td>49</td>\n",
              "      <td>1</td>\n",
              "      <td>1</td>\n",
              "      <td>7:30 AM</td>\n",
              "      <td>9:25 AM</td>\n",
              "      <td>1</td>\n",
              "      <td>8.0</td>\n",
              "      <td>NaN</td>\n",
              "      <td>NaN</td>\n",
              "      <td>NaN</td>\n",
              "      <td>NaN</td>\n",
              "      <td>1</td>\n",
              "      <td>10.0</td>\n",
              "      <td>NaN</td>\n",
              "      <td>NaN</td>\n",
              "      <td>NaN</td>\n",
              "      <td>NaN</td>\n",
              "      <td>1.0</td>\n",
              "      <td>1</td>\n",
              "      <td>2</td>\n",
              "      <td>1</td>\n",
              "      <td>2</td>\n",
              "      <td>3</td>\n",
              "      <td>4.0</td>\n",
              "      <td>2</td>\n",
              "      <td>3</td>\n",
              "      <td>3</td>\n",
              "      <td>3</td>\n",
              "      <td>4</td>\n",
              "      <td>4</td>\n",
              "      <td>...</td>\n",
              "      <td>5</td>\n",
              "      <td>5</td>\n",
              "      <td>5</td>\n",
              "      <td>5</td>\n",
              "      <td>NaN</td>\n",
              "      <td>NaN</td>\n",
              "      <td>NaN</td>\n",
              "      <td>5</td>\n",
              "      <td>NaN</td>\n",
              "      <td>NaN</td>\n",
              "      <td>NaN</td>\n",
              "      <td>2</td>\n",
              "      <td>2</td>\n",
              "      <td>2</td>\n",
              "      <td>2</td>\n",
              "      <td>2</td>\n",
              "      <td>NaN</td>\n",
              "      <td>NaN</td>\n",
              "      <td>NaN</td>\n",
              "      <td>5</td>\n",
              "      <td>3</td>\n",
              "      <td>5</td>\n",
              "      <td>5</td>\n",
              "      <td>2</td>\n",
              "      <td>NaN</td>\n",
              "      <td>NaN</td>\n",
              "      <td>NaN</td>\n",
              "      <td>1</td>\n",
              "      <td>NaN</td>\n",
              "      <td>NaN</td>\n",
              "      <td>US</td>\n",
              "      <td>90</td>\n",
              "      <td>4</td>\n",
              "      <td>1</td>\n",
              "      <td>2</td>\n",
              "      <td>2</td>\n",
              "      <td>2</td>\n",
              "      <td>2</td>\n",
              "      <td>1</td>\n",
              "      <td>0.553675</td>\n",
              "    </tr>\n",
              "    <tr>\n",
              "      <th>4</th>\n",
              "      <td>5</td>\n",
              "      <td>5</td>\n",
              "      <td>1215</td>\n",
              "      <td>2</td>\n",
              "      <td>12</td>\n",
              "      <td>1</td>\n",
              "      <td>1</td>\n",
              "      <td>1</td>\n",
              "      <td>21</td>\n",
              "      <td>1437</td>\n",
              "      <td>49</td>\n",
              "      <td>1</td>\n",
              "      <td>1</td>\n",
              "      <td>6:30 AM</td>\n",
              "      <td>9:25 AM</td>\n",
              "      <td>1</td>\n",
              "      <td>8.0</td>\n",
              "      <td>NaN</td>\n",
              "      <td>NaN</td>\n",
              "      <td>NaN</td>\n",
              "      <td>NaN</td>\n",
              "      <td>8</td>\n",
              "      <td>10.0</td>\n",
              "      <td>NaN</td>\n",
              "      <td>NaN</td>\n",
              "      <td>NaN</td>\n",
              "      <td>NaN</td>\n",
              "      <td>NaN</td>\n",
              "      <td>2</td>\n",
              "      <td>1</td>\n",
              "      <td>1</td>\n",
              "      <td>1</td>\n",
              "      <td>2</td>\n",
              "      <td>3.0</td>\n",
              "      <td>2</td>\n",
              "      <td>3</td>\n",
              "      <td>3</td>\n",
              "      <td>2</td>\n",
              "      <td>3</td>\n",
              "      <td>5</td>\n",
              "      <td>...</td>\n",
              "      <td>5</td>\n",
              "      <td>5</td>\n",
              "      <td>5</td>\n",
              "      <td>5</td>\n",
              "      <td>87.0</td>\n",
              "      <td>NaN</td>\n",
              "      <td>NaN</td>\n",
              "      <td>5</td>\n",
              "      <td>5.0</td>\n",
              "      <td>NaN</td>\n",
              "      <td>NaN</td>\n",
              "      <td>2</td>\n",
              "      <td>2</td>\n",
              "      <td>2</td>\n",
              "      <td>2</td>\n",
              "      <td>1</td>\n",
              "      <td>1.0</td>\n",
              "      <td>5.0</td>\n",
              "      <td>NaN</td>\n",
              "      <td>3</td>\n",
              "      <td>5</td>\n",
              "      <td>4</td>\n",
              "      <td>3</td>\n",
              "      <td>2</td>\n",
              "      <td>NaN</td>\n",
              "      <td>NaN</td>\n",
              "      <td>NaN</td>\n",
              "      <td>3</td>\n",
              "      <td>HUNTINGTON BEACH</td>\n",
              "      <td>92646.0</td>\n",
              "      <td>US</td>\n",
              "      <td>10</td>\n",
              "      <td>3</td>\n",
              "      <td>1</td>\n",
              "      <td>3</td>\n",
              "      <td>1</td>\n",
              "      <td>0</td>\n",
              "      <td>1</td>\n",
              "      <td>1</td>\n",
              "      <td>0.553675</td>\n",
              "    </tr>\n",
              "  </tbody>\n",
              "</table>\n",
              "<p>5 rows × 95 columns</p>\n",
              "</div>"
            ],
            "text/plain": [
              "   RESPNUM CCGID   RUN  INTDATE  ...  Q22A_USESJC  Q22B_USEOAK  LANG    WEIGHT\n",
              "0        1     1  1215        2  ...            2            1     1  0.553675\n",
              "1        2     2  1215        2  ...            2            1     1  0.553675\n",
              "2        3     3  1215        2  ...            2            2     1  0.553675\n",
              "3        4     4  1215        2  ...            2            2     1  0.553675\n",
              "4        5     5  1215        2  ...            0            1     1  0.553675\n",
              "\n",
              "[5 rows x 95 columns]"
            ]
          },
          "metadata": {
            "tags": []
          },
          "execution_count": 34
        }
      ]
    },
    {
      "cell_type": "code",
      "metadata": {
        "id": "hlbAXh5KHLIW",
        "colab_type": "code",
        "outputId": "0f17e014-742e-4466-edb5-0031e635c3b4",
        "colab": {
          "base_uri": "https://localhost:8080/",
          "height": 170
        }
      },
      "source": [
        "art_rating=customer['Q7A_ART']\n",
        "art_rating.describe()"
      ],
      "execution_count": 0,
      "outputs": [
        {
          "output_type": "execute_result",
          "data": {
            "text/plain": [
              "count    3535.000000\n",
              "mean        4.300707\n",
              "std         1.341445\n",
              "min         0.000000\n",
              "25%         3.000000\n",
              "50%         4.000000\n",
              "75%         5.000000\n",
              "max         6.000000\n",
              "Name: Q7A_ART, dtype: float64"
            ]
          },
          "metadata": {
            "tags": []
          },
          "execution_count": 41
        }
      ]
    },
    {
      "cell_type": "code",
      "metadata": {
        "id": "W9fHL8b6H2WN",
        "colab_type": "code",
        "outputId": "a6acfbdd-1b28-4e30-b912-3da0b5c56f3c",
        "colab": {
          "base_uri": "https://localhost:8080/",
          "height": 102
        }
      },
      "source": [
        "art_rating=art_rating[(art_rating>0)&(art_rating<6)]\n",
        "art_rating=art_rating.astype(str)\n",
        "art_rating.describe()\n"
      ],
      "execution_count": 0,
      "outputs": [
        {
          "output_type": "execute_result",
          "data": {
            "text/plain": [
              "count     2656\n",
              "unique       5\n",
              "top          4\n",
              "freq      1066\n",
              "Name: Q7A_ART, dtype: object"
            ]
          },
          "metadata": {
            "tags": []
          },
          "execution_count": 42
        }
      ]
    },
    {
      "cell_type": "code",
      "metadata": {
        "id": "PdcHSIo3JF9U",
        "colab_type": "code",
        "outputId": "9a3310c6-70c1-42a7-da0b-033917fbe083",
        "colab": {
          "base_uri": "https://localhost:8080/",
          "height": 119
        }
      },
      "source": [
        "\n",
        "art_rating.value_counts()"
      ],
      "execution_count": 0,
      "outputs": [
        {
          "output_type": "execute_result",
          "data": {
            "text/plain": [
              "4    1066\n",
              "5     803\n",
              "3     696\n",
              "2      71\n",
              "1      20\n",
              "Name: Q7A_ART, dtype: int64"
            ]
          },
          "metadata": {
            "tags": []
          },
          "execution_count": 45
        }
      ]
    },
    {
      "cell_type": "code",
      "metadata": {
        "id": "FrQmMZ4VIakj",
        "colab_type": "code",
        "outputId": "b549424a-108d-4337-c164-4d0ff2e2504e",
        "colab": {
          "base_uri": "https://localhost:8080/",
          "height": 281
        }
      },
      "source": [
        "\n",
        "art_rating.value_counts().plot(kind='pie')"
      ],
      "execution_count": 0,
      "outputs": [
        {
          "output_type": "execute_result",
          "data": {
            "text/plain": [
              "<matplotlib.axes._subplots.AxesSubplot at 0x7fc1139750f0>"
            ]
          },
          "metadata": {
            "tags": []
          },
          "execution_count": 43
        },
        {
          "output_type": "display_data",
          "data": {
            "image/png": "[encoded data removed]",
            "text/plain": [
              "<Figure size 432x288 with 1 Axes>"
            ]
          },
          "metadata": {
            "tags": []
          }
        }
      ]
    },
    {
      "cell_type": "code",
      "metadata": {
        "id": "mD9G2A3SJBVt",
        "colab_type": "code",
        "outputId": "3ecb75e0-4682-466f-928b-98bbc066ddc6",
        "colab": {
          "base_uri": "https://localhost:8080/",
          "height": 294
        }
      },
      "source": [
        "\n",
        "art_rating.value_counts().plot(kind='bar')"
      ],
      "execution_count": 0,
      "outputs": [
        {
          "output_type": "execute_result",
          "data": {
            "text/plain": [
              "<matplotlib.axes._subplots.AxesSubplot at 0x7fc1139226a0>"
            ]
          },
          "metadata": {
            "tags": []
          },
          "execution_count": 44
        },
        {
          "output_type": "display_data",
          "data": {
            "image/png": "[encoded data removed]",
            "text/plain": [
              "<Figure size 432x288 with 1 Axes>"
            ]
          },
          "metadata": {
            "tags": []
          }
        }
      ]
    },
    {
      "cell_type": "code",
      "metadata": {
        "id": "lD6h40FaJK8D",
        "colab_type": "code",
        "outputId": "a8027cb1-4c2c-42a7-e6e2-6c86dc063d54",
        "colab": {
          "base_uri": "https://localhost:8080/",
          "height": 299
        }
      },
      "source": [
        "art_rating.value_counts().plot(kind='box')"
      ],
      "execution_count": 0,
      "outputs": [
        {
          "output_type": "execute_result",
          "data": {
            "text/plain": [
              "<matplotlib.axes._subplots.AxesSubplot at 0x7fc1138ea278>"
            ]
          },
          "metadata": {
            "tags": []
          },
          "execution_count": 46
        },
        {
          "output_type": "display_data",
          "data": {
            "image/png": "[encoded data removed]",
            "text/plain": [
              "<Figure size 432x288 with 1 Axes>"
            ]
          },
          "metadata": {
            "tags": []
          }
        }
      ]
    },
    {
      "cell_type": "code",
      "metadata": {
        "id": "gDJNyjMkKVf6",
        "colab_type": "code",
        "colab": {
          "base_uri": "https://localhost:8080/",
          "height": 204
        },
        "outputId": "ecc85b15-351a-405c-f1b7-616b5f7f6555"
      },
      "source": [
        "#定距等级\n",
        "climate=pd.read_csv('/content/GlobalLandTemperaturesByCity.csv')\n",
        "climate.head()\n",
        "\n",
        "#climate.shape"
      ],
      "execution_count": 16,
      "outputs": [
        {
          "output_type": "execute_result",
          "data": {
            "text/html": [
              "<div>\n",
              "<style scoped>\n",
              "    .dataframe tbody tr th:only-of-type {\n",
              "        vertical-align: middle;\n",
              "    }\n",
              "\n",
              "    .dataframe tbody tr th {\n",
              "        vertical-align: top;\n",
              "    }\n",
              "\n",
              "    .dataframe thead th {\n",
              "        text-align: right;\n",
              "    }\n",
              "</style>\n",
              "<table border=\"1\" class=\"dataframe\">\n",
              "  <thead>\n",
              "    <tr style=\"text-align: right;\">\n",
              "      <th></th>\n",
              "      <th>dt</th>\n",
              "      <th>AverageTemperature</th>\n",
              "      <th>AverageTemperatureUncertainty</th>\n",
              "      <th>City</th>\n",
              "      <th>Country</th>\n",
              "      <th>Latitude</th>\n",
              "      <th>Longitude</th>\n",
              "    </tr>\n",
              "  </thead>\n",
              "  <tbody>\n",
              "    <tr>\n",
              "      <th>0</th>\n",
              "      <td>1743-11-01</td>\n",
              "      <td>6.068</td>\n",
              "      <td>1.737</td>\n",
              "      <td>Århus</td>\n",
              "      <td>Denmark</td>\n",
              "      <td>57.05N</td>\n",
              "      <td>10.33E</td>\n",
              "    </tr>\n",
              "    <tr>\n",
              "      <th>1</th>\n",
              "      <td>1743-12-01</td>\n",
              "      <td>NaN</td>\n",
              "      <td>NaN</td>\n",
              "      <td>Århus</td>\n",
              "      <td>Denmark</td>\n",
              "      <td>57.05N</td>\n",
              "      <td>10.33E</td>\n",
              "    </tr>\n",
              "    <tr>\n",
              "      <th>2</th>\n",
              "      <td>1744-01-01</td>\n",
              "      <td>NaN</td>\n",
              "      <td>NaN</td>\n",
              "      <td>Århus</td>\n",
              "      <td>Denmark</td>\n",
              "      <td>57.05N</td>\n",
              "      <td>10.33E</td>\n",
              "    </tr>\n",
              "    <tr>\n",
              "      <th>3</th>\n",
              "      <td>1744-02-01</td>\n",
              "      <td>NaN</td>\n",
              "      <td>NaN</td>\n",
              "      <td>Århus</td>\n",
              "      <td>Denmark</td>\n",
              "      <td>57.05N</td>\n",
              "      <td>10.33E</td>\n",
              "    </tr>\n",
              "    <tr>\n",
              "      <th>4</th>\n",
              "      <td>1744-03-01</td>\n",
              "      <td>NaN</td>\n",
              "      <td>NaN</td>\n",
              "      <td>Århus</td>\n",
              "      <td>Denmark</td>\n",
              "      <td>57.05N</td>\n",
              "      <td>10.33E</td>\n",
              "    </tr>\n",
              "  </tbody>\n",
              "</table>\n",
              "</div>"
            ],
            "text/plain": [
              "           dt  AverageTemperature  ...  Latitude Longitude\n",
              "0  1743-11-01               6.068  ...    57.05N    10.33E\n",
              "1  1743-12-01                 NaN  ...    57.05N    10.33E\n",
              "2  1744-01-01                 NaN  ...    57.05N    10.33E\n",
              "3  1744-02-01                 NaN  ...    57.05N    10.33E\n",
              "4  1744-03-01                 NaN  ...    57.05N    10.33E\n",
              "\n",
              "[5 rows x 7 columns]"
            ]
          },
          "metadata": {
            "tags": []
          },
          "execution_count": 16
        }
      ]
    },
    {
      "cell_type": "code",
      "metadata": {
        "id": "Vn5OB_1fMkbP",
        "colab_type": "code",
        "colab": {
          "base_uri": "https://localhost:8080/",
          "height": 153
        },
        "outputId": "058d3794-57fd-480e-b64e-a97a5870c98e"
      },
      "source": [
        "#查看缺失值\n",
        "#climate.isnull().sum()\n",
        "#清除缺失值\n",
        "climate.dropna(axis=0,inplace=True)\n",
        "#查看缺失值\n",
        "climate.isnull().sum()"
      ],
      "execution_count": 17,
      "outputs": [
        {
          "output_type": "execute_result",
          "data": {
            "text/plain": [
              "dt                               0\n",
              "AverageTemperature               0\n",
              "AverageTemperatureUncertainty    0\n",
              "City                             0\n",
              "Country                          0\n",
              "Latitude                         0\n",
              "Longitude                        0\n",
              "dtype: int64"
            ]
          },
          "metadata": {
            "tags": []
          },
          "execution_count": 17
        }
      ]
    },
    {
      "cell_type": "code",
      "metadata": {
        "id": "jOcd5CBTNXqk",
        "colab_type": "code",
        "colab": {
          "base_uri": "https://localhost:8080/",
          "height": 34
        },
        "outputId": "5cc2d440-0959-44f1-e86d-c3007e0c50b9"
      },
      "source": [
        "#查看独特值\n",
        "climate['AverageTemperature'].nunique()"
      ],
      "execution_count": 7,
      "outputs": [
        {
          "output_type": "execute_result",
          "data": {
            "text/plain": [
              "111994"
            ]
          },
          "metadata": {
            "tags": []
          },
          "execution_count": 7
        }
      ]
    },
    {
      "cell_type": "code",
      "metadata": {
        "id": "xjenUDCWQ8O3",
        "colab_type": "code",
        "colab": {
          "base_uri": "https://localhost:8080/",
          "height": 299
        },
        "outputId": "b41de4a6-88fd-41fe-cbec-194d76d179f8"
      },
      "source": [
        "climate['AverageTemperature'].hist()#直方图"
      ],
      "execution_count": 8,
      "outputs": [
        {
          "output_type": "execute_result",
          "data": {
            "text/plain": [
              "<matplotlib.axes._subplots.AxesSubplot at 0x7fc13edb1b00>"
            ]
          },
          "metadata": {
            "tags": []
          },
          "execution_count": 8
        },
        {
          "output_type": "display_data",
          "data": {
            "image/png": "[encoded data removed]",
            "text/plain": [
              "<Figure size 432x288 with 1 Axes>"
            ]
          },
          "metadata": {
            "tags": []
          }
        }
      ]
    },
    {
      "cell_type": "code",
      "metadata": {
        "id": "ICIteNs9RLN8",
        "colab_type": "code",
        "colab": {
          "base_uri": "https://localhost:8080/",
          "height": 170
        },
        "outputId": "2d7564d5-3de9-40b1-f2d4-a6282de41359"
      },
      "source": [
        "climate['AverageTemperature'].describe()"
      ],
      "execution_count": 11,
      "outputs": [
        {
          "output_type": "execute_result",
          "data": {
            "text/plain": [
              "count    8.235082e+06\n",
              "mean     1.672743e+01\n",
              "std      1.035344e+01\n",
              "min     -4.270400e+01\n",
              "25%      1.029900e+01\n",
              "50%      1.883100e+01\n",
              "75%      2.521000e+01\n",
              "max      3.965100e+01\n",
              "Name: AverageTemperature, dtype: float64"
            ]
          },
          "metadata": {
            "tags": []
          },
          "execution_count": 11
        }
      ]
    },
    {
      "cell_type": "code",
      "metadata": {
        "id": "p0BiW4cDRRYh",
        "colab_type": "code",
        "colab": {
          "base_uri": "https://localhost:8080/",
          "height": 812
        },
        "outputId": "022dde6b-9d21-4c31-b52c-44a75eec4653"
      },
      "source": [
        "#将DT转换为日期，取年份\n",
        "climate['dt']=pd.to_datetime(climate['dt'])\n",
        "climate['year']=climate['dt'].map(lambda value:value.year)\n",
        "\n",
        "#只看美国\n",
        "climate_sub_us=climate.loc[climate['Country']=='United States']\n",
        "climate_sub_us['century']=climate_sub_us['year'].map(lambda value:int(value/100+1))\n",
        "climate_sub_us['AverageTemperature'].hist(by=climate_sub_us['century'],sharex=True,sharey=True,figsize=(10,10),bins=20)"
      ],
      "execution_count": 19,
      "outputs": [
        {
          "output_type": "stream",
          "text": [
            "/usr/local/lib/python3.6/dist-packages/ipykernel_launcher.py:6: SettingWithCopyWarning: \n",
            "A value is trying to be set on a copy of a slice from a DataFrame.\n",
            "Try using .loc[row_indexer,col_indexer] = value instead\n",
            "\n",
            "See the caveats in the documentation: http://pandas.pydata.org/pandas-docs/stable/indexing.html#indexing-view-versus-copy\n",
            "  \n"
          ],
          "name": "stderr"
        },
        {
          "output_type": "execute_result",
          "data": {
            "text/plain": [
              "array([[<matplotlib.axes._subplots.AxesSubplot object at 0x7fc13b1a6438>,\n",
              "        <matplotlib.axes._subplots.AxesSubplot object at 0x7fc13b1c8e80>],\n",
              "       [<matplotlib.axes._subplots.AxesSubplot object at 0x7fc13b176588>,\n",
              "        <matplotlib.axes._subplots.AxesSubplot object at 0x7fc13b19cc50>]],\n",
              "      dtype=object)"
            ]
          },
          "metadata": {
            "tags": []
          },
          "execution_count": 19
        },
        {
          "output_type": "display_data",
          "data": {
            "image/png": "[encoded data removed]",
            "text/plain": [
              "<Figure size 720x720 with 4 Axes>"
            ]
          },
          "metadata": {
            "tags": []
          }
        }
      ]
    },
    {
      "cell_type": "code",
      "metadata": {
        "id": "afSGnNwnTmWJ",
        "colab_type": "code",
        "colab": {
          "base_uri": "https://localhost:8080/",
          "height": 321
        },
        "outputId": "d5d9d472-0a08-4767-d376-45863662686a"
      },
      "source": [
        "climate_sub_us.groupby('century')['AverageTemperature'].mean().plot(kind='line')"
      ],
      "execution_count": 20,
      "outputs": [
        {
          "output_type": "execute_result",
          "data": {
            "text/plain": [
              "<matplotlib.axes._subplots.AxesSubplot at 0x7fc13fa27898>"
            ]
          },
          "metadata": {
            "tags": []
          },
          "execution_count": 20
        },
        {
          "output_type": "display_data",
          "data": {
            "image/png": "[encoded data removed]",
            "text/plain": [
              "<Figure size 432x288 with 1 Axes>"
            ]
          },
          "metadata": {
            "tags": []
          }
        }
      ]
    },
    {
      "cell_type": "code",
      "metadata": {
        "id": "a-xX-5UbUsCb",
        "colab_type": "code",
        "colab": {
          "base_uri": "https://localhost:8080/",
          "height": 119
        },
        "outputId": "75bff41c-e04d-40d4-c2a0-a90ba66a9b2b"
      },
      "source": [
        "century_change=climate_sub_us.groupby('century')['AverageTemperature'].mean()\n",
        "century_change"
      ],
      "execution_count": 21,
      "outputs": [
        {
          "output_type": "execute_result",
          "data": {
            "text/plain": [
              "century\n",
              "18    12.073243\n",
              "19    13.662870\n",
              "20    14.386622\n",
              "21    15.197692\n",
              "Name: AverageTemperature, dtype: float64"
            ]
          },
          "metadata": {
            "tags": []
          },
          "execution_count": 21
        }
      ]
    },
    {
      "cell_type": "code",
      "metadata": {
        "id": "1YbGYQpzU28E",
        "colab_type": "code",
        "colab": {
          "base_uri": "https://localhost:8080/",
          "height": 34
        },
        "outputId": "c38b5f71-1a18-417a-8029-a29cdd34994c"
      },
      "source": [
        "century_change[21]-century_change[18]"
      ],
      "execution_count": 22,
      "outputs": [
        {
          "output_type": "execute_result",
          "data": {
            "text/plain": [
              "3.124449115460754"
            ]
          },
          "metadata": {
            "tags": []
          },
          "execution_count": 22
        }
      ]
    },
    {
      "cell_type": "code",
      "metadata": {
        "id": "L9nxjBjgU8or",
        "colab_type": "code",
        "colab": {
          "base_uri": "https://localhost:8080/",
          "height": 340
        },
        "outputId": "ac93b878-3cb0-46ef-83d6-2723f0d930dd"
      },
      "source": [
        "x=climate_sub_us['year']\n",
        "y=climate_sub_us['AverageTemperature']\n",
        "fig,ax=plt.subplots(figsize=(10,5))\n",
        "ax.scatter(x,y)\n",
        "plt.show()"
      ],
      "execution_count": 24,
      "outputs": [
        {
          "output_type": "display_data",
          "data": {
            "image/png": "[encoded data removed]",
            "text/plain": [
              "<Figure size 720x360 with 1 Axes>"
            ]
          },
          "metadata": {
            "tags": []
          }
        }
      ]
    },
    {
      "cell_type": "code",
      "metadata": {
        "id": "UfGBIr40Vi0V",
        "colab_type": "code",
        "colab": {
          "base_uri": "https://localhost:8080/",
          "height": 321
        },
        "outputId": "cb869fb7-08c1-4d72-a1bf-4333824f98ec"
      },
      "source": [
        "climate_sub_us.groupby('year')['AverageTemperature'].mean().plot()"
      ],
      "execution_count": 25,
      "outputs": [
        {
          "output_type": "execute_result",
          "data": {
            "text/plain": [
              "<matplotlib.axes._subplots.AxesSubplot at 0x7fc13b06eba8>"
            ]
          },
          "metadata": {
            "tags": []
          },
          "execution_count": 25
        },
        {
          "output_type": "display_data",
          "data": {
            "image/png": "[encoded data removed]",
            "text/plain": [
              "<Figure size 432x288 with 1 Axes>"
            ]
          },
          "metadata": {
            "tags": []
          }
        }
      ]
    },
    {
      "cell_type": "code",
      "metadata": {
        "id": "16TuZIPYVxEW",
        "colab_type": "code",
        "colab": {
          "base_uri": "https://localhost:8080/",
          "height": 321
        },
        "outputId": "8a4c3bc1-9f50-478f-dcd0-f38eba2205fa"
      },
      "source": [
        "climate_sub_us.groupby('year')['AverageTemperature'].mean().rolling(10).mean().plot()"
      ],
      "execution_count": 30,
      "outputs": [
        {
          "output_type": "execute_result",
          "data": {
            "text/plain": [
              "<matplotlib.axes._subplots.AxesSubplot at 0x7fc13ac91400>"
            ]
          },
          "metadata": {
            "tags": []
          },
          "execution_count": 30
        },
        {
          "output_type": "display_data",
          "data": {
            "image/png": "[encoded data removed]",
            "text/plain": [
              "<Figure size 432x288 with 1 Axes>"
            ]
          },
          "metadata": {
            "tags": []
          }
        }
      ]
    },
    {
      "cell_type": "code",
      "metadata": {
        "id": "4twwNuRtW0Uz",
        "colab_type": "code",
        "colab": {
          "base_uri": "https://localhost:8080/",
          "height": 323
        },
        "outputId": "a4544731-e3fe-46d3-a9e4-41bc510c425b"
      },
      "source": [
        "#定比数据\n",
        "salary_ranges.head()"
      ],
      "execution_count": 32,
      "outputs": [
        {
          "output_type": "execute_result",
          "data": {
            "text/html": [
              "<div>\n",
              "<style scoped>\n",
              "    .dataframe tbody tr th:only-of-type {\n",
              "        vertical-align: middle;\n",
              "    }\n",
              "\n",
              "    .dataframe tbody tr th {\n",
              "        vertical-align: top;\n",
              "    }\n",
              "\n",
              "    .dataframe thead th {\n",
              "        text-align: right;\n",
              "    }\n",
              "</style>\n",
              "<table border=\"1\" class=\"dataframe\">\n",
              "  <thead>\n",
              "    <tr style=\"text-align: right;\">\n",
              "      <th></th>\n",
              "      <th>SetID</th>\n",
              "      <th>Job Code</th>\n",
              "      <th>Eff Date</th>\n",
              "      <th>Sal End Date</th>\n",
              "      <th>Salary SetID</th>\n",
              "      <th>Sal Plan</th>\n",
              "      <th>Grade</th>\n",
              "      <th>Step</th>\n",
              "      <th>Biweekly High Rate</th>\n",
              "      <th>Biweekly Low Rate</th>\n",
              "      <th>Union Code</th>\n",
              "      <th>Extended Step</th>\n",
              "      <th>Pay Type</th>\n",
              "    </tr>\n",
              "  </thead>\n",
              "  <tbody>\n",
              "    <tr>\n",
              "      <th>0</th>\n",
              "      <td>COMMN</td>\n",
              "      <td>0109</td>\n",
              "      <td>07/01/2009 12:00:00 AM</td>\n",
              "      <td>06/30/2010 12:00:00 AM</td>\n",
              "      <td>COMMN</td>\n",
              "      <td>SFM</td>\n",
              "      <td>00000</td>\n",
              "      <td>1</td>\n",
              "      <td>$0.00</td>\n",
              "      <td>$0.00</td>\n",
              "      <td>330</td>\n",
              "      <td>0</td>\n",
              "      <td>C</td>\n",
              "    </tr>\n",
              "    <tr>\n",
              "      <th>1</th>\n",
              "      <td>COMMN</td>\n",
              "      <td>0110</td>\n",
              "      <td>07/01/2009 12:00:00 AM</td>\n",
              "      <td>06/30/2010 12:00:00 AM</td>\n",
              "      <td>COMMN</td>\n",
              "      <td>SFM</td>\n",
              "      <td>00000</td>\n",
              "      <td>1</td>\n",
              "      <td>$15.00</td>\n",
              "      <td>$15.00</td>\n",
              "      <td>323</td>\n",
              "      <td>0</td>\n",
              "      <td>D</td>\n",
              "    </tr>\n",
              "    <tr>\n",
              "      <th>2</th>\n",
              "      <td>COMMN</td>\n",
              "      <td>0111</td>\n",
              "      <td>07/01/2009 12:00:00 AM</td>\n",
              "      <td>06/30/2010 12:00:00 AM</td>\n",
              "      <td>COMMN</td>\n",
              "      <td>SFM</td>\n",
              "      <td>00000</td>\n",
              "      <td>1</td>\n",
              "      <td>$25.00</td>\n",
              "      <td>$25.00</td>\n",
              "      <td>323</td>\n",
              "      <td>0</td>\n",
              "      <td>D</td>\n",
              "    </tr>\n",
              "    <tr>\n",
              "      <th>3</th>\n",
              "      <td>COMMN</td>\n",
              "      <td>0112</td>\n",
              "      <td>07/01/2009 12:00:00 AM</td>\n",
              "      <td>06/30/2010 12:00:00 AM</td>\n",
              "      <td>COMMN</td>\n",
              "      <td>SFM</td>\n",
              "      <td>00000</td>\n",
              "      <td>1</td>\n",
              "      <td>$50.00</td>\n",
              "      <td>$50.00</td>\n",
              "      <td>323</td>\n",
              "      <td>0</td>\n",
              "      <td>D</td>\n",
              "    </tr>\n",
              "    <tr>\n",
              "      <th>4</th>\n",
              "      <td>COMMN</td>\n",
              "      <td>0114</td>\n",
              "      <td>07/01/2009 12:00:00 AM</td>\n",
              "      <td>06/30/2010 12:00:00 AM</td>\n",
              "      <td>COMMN</td>\n",
              "      <td>SFM</td>\n",
              "      <td>00000</td>\n",
              "      <td>1</td>\n",
              "      <td>$100.00</td>\n",
              "      <td>$100.00</td>\n",
              "      <td>323</td>\n",
              "      <td>0</td>\n",
              "      <td>M</td>\n",
              "    </tr>\n",
              "  </tbody>\n",
              "</table>\n",
              "</div>"
            ],
            "text/plain": [
              "   SetID Job Code                Eff Date  ... Union Code Extended Step Pay Type\n",
              "0  COMMN     0109  07/01/2009 12:00:00 AM  ...        330             0        C\n",
              "1  COMMN     0110  07/01/2009 12:00:00 AM  ...        323             0        D\n",
              "2  COMMN     0111  07/01/2009 12:00:00 AM  ...        323             0        D\n",
              "3  COMMN     0112  07/01/2009 12:00:00 AM  ...        323             0        D\n",
              "4  COMMN     0114  07/01/2009 12:00:00 AM  ...        323             0        M\n",
              "\n",
              "[5 rows x 13 columns]"
            ]
          },
          "metadata": {
            "tags": []
          },
          "execution_count": 32
        }
      ]
    },
    {
      "cell_type": "code",
      "metadata": {
        "id": "GAmJQ_MbXth3",
        "colab_type": "code",
        "colab": {}
      },
      "source": [
        "salary_ranges['Biweekly High Rate']=salary_ranges['Biweekly High Rate'].map(lambda value:value.replace('$',''))\n",
        "salary_ranges['Biweekly High Rate']=salary_ranges['Biweekly High Rate'].astype(float)\n"
      ],
      "execution_count": 0,
      "outputs": []
    },
    {
      "cell_type": "code",
      "metadata": {
        "id": "5gUI_O4BYZN3",
        "colab_type": "code",
        "colab": {
          "base_uri": "https://localhost:8080/",
          "height": 170
        },
        "outputId": "d07e95d9-2e80-4dc9-db15-2000346deddc"
      },
      "source": [
        "salary_ranges['Biweekly High Rate'].describe()"
      ],
      "execution_count": 45,
      "outputs": [
        {
          "output_type": "execute_result",
          "data": {
            "text/plain": [
              "count     1356.000000\n",
              "mean      3161.727021\n",
              "std       1481.002904\n",
              "min          0.000000\n",
              "25%       2145.000000\n",
              "50%       2856.500000\n",
              "75%       3703.000000\n",
              "max      12120.770000\n",
              "Name: Biweekly High Rate, dtype: float64"
            ]
          },
          "metadata": {
            "tags": []
          },
          "execution_count": 45
        }
      ]
    },
    {
      "cell_type": "code",
      "metadata": {
        "id": "RQ95iyqCY1Mc",
        "colab_type": "code",
        "colab": {
          "base_uri": "https://localhost:8080/",
          "height": 454
        },
        "outputId": "03ded88d-11f0-45e8-abd7-4bedac17827f"
      },
      "source": [
        "fig=plt.figure(figsize=(15,5))\n",
        "ax=fig.gca()\n",
        "\n",
        "salary_ranges.groupby('Grade')[['Biweekly High Rate']].mean().sort_values('Biweekly High Rate',ascending=False).head(20).plot.bar(stacked=False,ax=ax,color='darkorange')\n",
        "ax.set_title('T0p 20')"
      ],
      "execution_count": 49,
      "outputs": [
        {
          "output_type": "execute_result",
          "data": {
            "text/plain": [
              "Text(0.5, 1.0, 'T0p 20')"
            ]
          },
          "metadata": {
            "tags": []
          },
          "execution_count": 49
        },
        {
          "output_type": "display_data",
          "data": {
            "image/png": "[encoded data removed]",
            "text/plain": [
              "<Figure size 1080x360 with 1 Axes>"
            ]
          },
          "metadata": {
            "tags": []
          }
        }
      ]
    },
    {
      "cell_type": "code",
      "metadata": {
        "id": "WAbgyDhm6JVk",
        "colab_type": "code",
        "colab": {
          "base_uri": "https://localhost:8080/",
          "height": 450
        },
        "outputId": "d411971a-54e7-4f05-b5d6-c6084e940ec0"
      },
      "source": [
        "fig=plt.figure(figsize=(15,5))\n",
        "ax=fig.gca()\n",
        "salary_ranges.groupby('Grade')[['Biweekly High Rate']].mean().sort_values('Biweekly High Rate',ascending=False).tail(20).plot.bar(stacked=False,ax=ax,color='darkorange')\n",
        "ax.set_title('tail 20')"
      ],
      "execution_count": 51,
      "outputs": [
        {
          "output_type": "execute_result",
          "data": {
            "text/plain": [
              "Text(0.5, 1.0, 'tail 20')"
            ]
          },
          "metadata": {
            "tags": []
          },
          "execution_count": 51
        },
        {
          "output_type": "display_data",
          "data": {
            "image/png": "[encoded data removed]",
            "text/plain": [
              "<Figure size 1080x360 with 1 Axes>"
            ]
          },
          "metadata": {
            "tags": []
          }
        }
      ]
    },
    {
      "cell_type": "code",
      "metadata": {
        "id": "O-JUIbJ06gwV",
        "colab_type": "code",
        "colab": {
          "base_uri": "https://localhost:8080/",
          "height": 34
        },
        "outputId": "d17434ff-d66e-4191-d683-b7c9195c6a8c"
      },
      "source": [
        "sort_df=salary_ranges.groupby('Grade')[['Biweekly High Rate']].mean().sort_values('Biweekly High Rate',ascending=False)\n",
        "sort_df.iloc[0][0]/sort_df.iloc[-1][0]"
      ],
      "execution_count": 52,
      "outputs": [
        {
          "output_type": "execute_result",
          "data": {
            "text/plain": [
              "13.931919540229886"
            ]
          },
          "metadata": {
            "tags": []
          },
          "execution_count": 52
        }
      ]
    },
    {
      "cell_type": "code",
      "metadata": {
        "id": "PB4nHLZb-WLy",
        "colab_type": "code",
        "colab": {}
      },
      "source": [
        ""
      ],
      "execution_count": 0,
      "outputs": []
    },
    {
      "cell_type": "markdown",
      "metadata": {
        "id": "KIIiKoCl-f1r",
        "colab_type": "text"
      },
      "source": [
        ""
      ]
    }
  ]
}